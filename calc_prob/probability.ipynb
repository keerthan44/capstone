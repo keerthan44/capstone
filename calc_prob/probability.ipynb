# %%
import pandas as pd

# Load the CSV file
file_path = '2022_trace_0to4_data.csv'  # Replace with your actual file path
data = pd.read_csv(file_path)

# Display the first few rows of the DataFrame
print(data.head())


# %%
# Filter relevant columns
data_filtered = data[['traceid', 'um']]

# Group by traceid and upstream microservice (um) and count the number of calls
call_counts = data_filtered.groupby(['traceid', 'um']).size().reset_index(name='call_count')

# Display the aggregated call counts
print(call_counts)


# %%
import matplotlib.pyplot as plt

# Get unique trace IDs
trace_ids = call_counts['traceid'].unique()

# Plot line graph for each trace ID
for trace_id in trace_ids:
    trace_data = call_counts[call_counts['traceid'] == trace_id]
    
    trace_data = trace_data.sort_values(by='call_count', ascending=False)
    
    plt.figure(figsize=(10, 6))
    plt.plot(trace_data['um'], trace_data['call_count'], marker='o', linestyle='-')
    plt.title(f'Number of Calls Made by Each Microservice (Trace ID: {trace_id})')
    plt.xlabel('Microservice (um)')
    plt.ylabel('Number of Calls')
    plt.xticks(rotation=45)
    plt.grid(True)
    plt.show()


# %%
# Filter relevant columns
data_filtered = data[['traceid', 'um']]

# Get unique trace IDs
trace_ids = data_filtered['traceid'].unique()

# Prepare an empty DataFrame to store probabilities
all_probabilities = pd.DataFrame()

# Process each trace ID separately
for trace_id in trace_ids:
    # Filter data for the current trace ID
    trace_data = data_filtered[data_filtered['traceid'] == trace_id]
    
    # Group by upstream microservice (um) and count the number of calls
    call_counts = trace_data.groupby('um').size().reset_index(name='call_count')
    
    # Sort call_counts by call_count in descending order
    call_counts = call_counts.sort_values(by='call_count', ascending=False)
    
    # Calculate the degree of each upstream microservice (number of outgoing calls)
    degrees = trace_data['um'].value_counts().reset_index()
    degrees.columns = ['um', 'degree']
    
    # Calculate the total degree sum
    total_degree = degrees['degree'].sum()
    
    # Calculate the probability for each microservice
    degrees['probability'] = degrees['degree'] / total_degree
    
    # Append probabilities to the all_probabilities DataFrame
    degrees['traceid'] = trace_id
    all_probabilities = pd.concat([all_probabilities, degrees[['traceid', 'um', 'probability']]], ignore_index=True)
    
    # Plot the probabilities
    plt.figure(figsize=(10, 6))
    plt.bar(degrees['um'], degrees['probability'], color='skyblue')
    plt.title(f'Barabási-Albert Probabilities for Each Microservice (Trace ID: {trace_id})')
    plt.xlabel('Microservice (um)')
    plt.ylabel('Probability')
    plt.xticks(rotation=45)
    plt.grid(True)
    plt.show()

# Save all_probabilities to probabilities.csv
output_file = 'probabilities.csv'
all_probabilities.to_csv(output_file, index=False)
print(f'Barabási-Albert probabilities exported to {output_file}.')



